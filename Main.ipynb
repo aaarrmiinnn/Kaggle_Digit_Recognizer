{
 "cells": [
  {
   "cell_type": "markdown",
   "metadata": {},
   "source": [
    "# Importing Libraries"
   ]
  },
  {
   "cell_type": "code",
   "execution_count": 20,
   "metadata": {
    "collapsed": false
   },
   "outputs": [],
   "source": [
    "import os\n",
    "import pandas as pd\n",
    "import matplotlib.pyplot as plt\n",
    "import numpy as np\n",
    "np.random.seed(1337)  # for reproducibility\n",
    "import csv\n",
    "\n",
    "\n",
    "from keras.datasets import mnist\n",
    "from keras.models import Sequential\n",
    "from keras.layers.core import Dense, Dropout, Activation, Flatten\n",
    "from keras.layers.convolutional import Convolution2D, MaxPooling2D\n",
    "from keras.utils import np_utils\n"
   ]
  },
  {
   "cell_type": "code",
   "execution_count": 25,
   "metadata": {
    "collapsed": false
   },
   "outputs": [
    {
     "name": "stdout",
     "output_type": "stream",
     "text": [
      "Working Dir Is:\n",
      "/Users/Armin/Documents/Data_Science/Kaggle/Digit_Recognizer\n",
      "['.DS_Store', 'test.csv', 'train.csv']\n"
     ]
    }
   ],
   "source": [
    "os.chdir(\"/Users/Armin/Documents/Data_Science/Kaggle/Digit_Recognizer\")\n",
    "cwd=os.getcwd()\n",
    "print \"Working Dir Is:\\n\",cwd\n",
    "print os.listdir(cwd+\"/Data/\")\n"
   ]
  },
  {
   "cell_type": "code",
   "execution_count": 73,
   "metadata": {
    "collapsed": false
   },
   "outputs": [],
   "source": [
    "train_data = csv.reader(open(cwd+\"/Data/train.csv\",\"rb\"),delimiter=',')\n",
    "x = list(train_data)\n",
    "train_XY= np.array(x[1:]).astype('float')\n",
    "test_data = csv.reader(open(cwd+\"/Data/test.csv\",\"rb\"),delimiter=',')\n",
    "x = list(test_data)\n",
    "test_XY= np.array(x[1:]).astype('float')"
   ]
  },
  {
   "cell_type": "code",
   "execution_count": 74,
   "metadata": {
    "collapsed": true
   },
   "outputs": [],
   "source": [
    "batch_size = 128\n",
    "nb_classes = 10\n",
    "nb_epoch = 12\n",
    "\n",
    "# input image dimensions\n",
    "img_rows, img_cols = 28, 28\n",
    "# number of convolutional filters to use\n",
    "nb_filters = 32\n",
    "# size of pooling area for max pooling\n",
    "nb_pool = 2\n",
    "# convolution kernel size\n",
    "nb_conv = 3"
   ]
  },
  {
   "cell_type": "code",
   "execution_count": 83,
   "metadata": {
    "collapsed": false
   },
   "outputs": [],
   "source": [
    "train_percentage = 0.7\n",
    "train_size = int(np.round(train_XY.shape[0]*train_percentage))"
   ]
  },
  {
   "cell_type": "code",
   "execution_count": 86,
   "metadata": {
    "collapsed": false
   },
   "outputs": [
    {
     "name": "stdout",
     "output_type": "stream",
     "text": [
      "('X_train size is:', (29400, 784))\n",
      "('y_train size is:', (29400,))\n",
      "('X_test size is:', (12600, 784))\n",
      "('y_test size is:', (12600,))\n",
      "('X_submission size is:', (28000, 784))\n"
     ]
    }
   ],
   "source": [
    "X_train = train_XY[0:train_size,1:]\n",
    "print (\"X_train size is:\",X_train.shape)\n",
    "y_train = train_XY[0:train_size,0]\n",
    "print (\"y_train size is:\",y_train.shape)\n",
    "X_test = train_XY[train_size:,1:   ]\n",
    "print (\"X_test size is:\",X_test.shape)\n",
    "y_test = train_XY[train_size:,0]\n",
    "print (\"y_test size is:\",y_test.shape)\n",
    "\n",
    "X_submission = test_XY\n",
    "print (\"X_submission size is:\",X_submission.shape)"
   ]
  },
  {
   "cell_type": "code",
   "execution_count": 87,
   "metadata": {
    "collapsed": false
   },
   "outputs": [
    {
     "name": "stdout",
     "output_type": "stream",
     "text": [
      "('X_train shape:', (29400, 1, 28, 28))\n",
      "(29400, 'train samples')\n",
      "(12600, 'test samples')\n"
     ]
    }
   ],
   "source": [
    "X_train = X_train.reshape(X_train.shape[0], 1, img_rows, img_cols)\n",
    "X_test = X_test.reshape(X_test.shape[0], 1, img_rows, img_cols)\n",
    "X_train = X_train.astype('float32')\n",
    "X_test = X_test.astype('float32')\n",
    "X_train /= 255\n",
    "X_test /= 255\n",
    "print('X_train shape:', X_train.shape)\n",
    "print(X_train.shape[0], 'train samples')\n",
    "print(X_test.shape[0], 'test samples')"
   ]
  },
  {
   "cell_type": "markdown",
   "metadata": {
    "collapsed": true
   },
   "source": [
    "# Setting up the figure to depict the numbers"
   ]
  },
  {
   "cell_type": "code",
   "execution_count": null,
   "metadata": {
    "collapsed": false
   },
   "outputs": [],
   "source": [
    "%matplotlib inline\n",
    "Fig = plt.figure(figsize=(6,6))\n",
    "Fig.subplots_adjust(left=0, right=1, bottom=0, top=1, hspace=0.05, wspace=0.05)\n",
    "\n",
    "#ax.imshow(Training_Data[1], cmap=plt.cm.binary, interpolation='nearest')\n",
    "    \n",
    "\n",
    "for i in range(64):\n",
    "    ax = Fig.add_subplot(8, 8, i + 1, xticks=[], yticks=[])\n",
    "    ax.imshow(temp, cmap=plt.cm.binary, interpolation='nearest')\n",
    "    \n",
    "    # label the image with the target value\n",
    "    #ax.text(0, 7, str(Training_Data[i]))"
   ]
  },
  {
   "cell_type": "code",
   "execution_count": null,
   "metadata": {
    "collapsed": true
   },
   "outputs": [],
   "source": []
  }
 ],
 "metadata": {
  "kernelspec": {
   "display_name": "Python 2",
   "language": "python",
   "name": "python2"
  },
  "language_info": {
   "codemirror_mode": {
    "name": "ipython",
    "version": 2
   },
   "file_extension": ".py",
   "mimetype": "text/x-python",
   "name": "python",
   "nbconvert_exporter": "python",
   "pygments_lexer": "ipython2",
   "version": "2.7.11"
  }
 },
 "nbformat": 4,
 "nbformat_minor": 0
}
