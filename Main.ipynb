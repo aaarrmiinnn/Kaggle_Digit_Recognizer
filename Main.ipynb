{
 "cells": [
  {
   "cell_type": "markdown",
   "metadata": {},
   "source": [
    "# Importing Libraries"
   ]
  },
  {
   "cell_type": "code",
   "execution_count": 1,
   "metadata": {
    "collapsed": false
   },
   "outputs": [
    {
     "name": "stderr",
     "output_type": "stream",
     "text": [
      "Using Theano backend.\n"
     ]
    }
   ],
   "source": [
    "import os\n",
    "import pandas as pd\n",
    "import matplotlib.pyplot as plt\n",
    "import numpy as np\n",
    "np.random.seed(1337)  # for reproducibility\n",
    "import csv\n",
    "\n",
    "\n",
    "from keras.datasets import mnist\n",
    "from keras.models import Sequential\n",
    "from keras.layers.core import Dense, Dropout, Activation, Flatten\n",
    "from keras.layers.convolutional import Convolution2D, MaxPooling2D\n",
    "from keras.utils import np_utils\n",
    "from keras.regularizers import l2, activity_l2\n",
    "from keras.layers.advanced_activations import LeakyReLU\n",
    "\n"
   ]
  },
  {
   "cell_type": "code",
   "execution_count": 2,
   "metadata": {
    "collapsed": false
   },
   "outputs": [
    {
     "name": "stdout",
     "output_type": "stream",
     "text": [
      "Working Dir Is:\n",
      "/Users/Armin/Documents/Data_Science/Kaggle/Digit_Recognizer\n",
      "['.DS_Store', 'prediction_results.csv', 'test.csv', 'train.csv']\n"
     ]
    }
   ],
   "source": [
    "os.chdir(\"/Users/Armin/Documents/Data_Science/Kaggle/Digit_Recognizer\")\n",
    "cwd=os.getcwd()\n",
    "print \"Working Dir Is:\\n\",cwd\n",
    "print os.listdir(cwd+\"/Data/\")\n"
   ]
  },
  {
   "cell_type": "code",
   "execution_count": 3,
   "metadata": {
    "collapsed": false
   },
   "outputs": [],
   "source": [
    "train_data = csv.reader(open(cwd+\"/Data/train.csv\",\"rb\"),delimiter=',')\n",
    "x = list(train_data)\n",
    "train_XY= np.array(x[1:]).astype('float')\n",
    "test_data = csv.reader(open(cwd+\"/Data/test.csv\",\"rb\"),delimiter=',')\n",
    "x = list(test_data)\n",
    "test_XY= np.array(x[1:]).astype('float')"
   ]
  },
  {
   "cell_type": "code",
   "execution_count": 4,
   "metadata": {
    "collapsed": true
   },
   "outputs": [],
   "source": [
    "batch_size = 128\n",
    "nb_classes = 10\n",
    "nb_epoch = 10\n",
    "\n",
    "# input image dimensions\n",
    "img_rows, img_cols = 28, 28\n",
    "# number of convolutional filters to use\n",
    "nb_filters = 32\n",
    "# size of pooling area for max pooling\n",
    "nb_pool = 2\n",
    "# convolution kernel size\n",
    "nb_conv = 3"
   ]
  },
  {
   "cell_type": "code",
   "execution_count": 5,
   "metadata": {
    "collapsed": false
   },
   "outputs": [],
   "source": [
    "train_percentage = 0.7\n",
    "train_size = int(np.round(train_XY.shape[0]*train_percentage))"
   ]
  },
  {
   "cell_type": "code",
   "execution_count": 6,
   "metadata": {
    "collapsed": false
   },
   "outputs": [
    {
     "name": "stdout",
     "output_type": "stream",
     "text": [
      "('X_train size is:', (29400, 784))\n",
      "('y_train size is:', (29400,))\n",
      "('X_test size is:', (12600, 784))\n",
      "('y_test size is:', (12600,))\n",
      "('X_submission size is:', (28000, 784))\n"
     ]
    }
   ],
   "source": [
    "X_train = train_XY[0:train_size,1:]\n",
    "print (\"X_train size is:\",X_train.shape)\n",
    "y_train = train_XY[0:train_size,0]\n",
    "print (\"y_train size is:\",y_train.shape)\n",
    "X_test = train_XY[train_size:,1:   ]\n",
    "print (\"X_test size is:\",X_test.shape)\n",
    "y_test = train_XY[train_size:,0]\n",
    "print (\"y_test size is:\",y_test.shape)\n",
    "\n",
    "X_submission = test_XY\n",
    "print (\"X_submission size is:\",X_submission.shape)"
   ]
  },
  {
   "cell_type": "code",
   "execution_count": 7,
   "metadata": {
    "collapsed": false
   },
   "outputs": [
    {
     "name": "stdout",
     "output_type": "stream",
     "text": [
      "('X_train shape:', (29400, 1, 28, 28))\n",
      "(29400, 'train samples')\n",
      "(12600, 'test samples')\n"
     ]
    }
   ],
   "source": [
    "X_train = X_train.reshape(X_train.shape[0], 1, img_rows, img_cols)\n",
    "X_test = X_test.reshape(X_test.shape[0], 1, img_rows, img_cols)\n",
    "X_submission = X_submission.reshape(X_submission.shape[0], 1, img_rows, img_cols)\n",
    "X_train = X_train.astype('float32')\n",
    "X_test = X_test.astype('float32')\n",
    "X_submission = X_submission.astype('float32')\n",
    "X_train /= 255\n",
    "X_test /= 255\n",
    "X_submission /= 255\n",
    "\n",
    "print('X_train shape:', X_train.shape)\n",
    "print(X_train.shape[0], 'train samples')\n",
    "print(X_test.shape[0], 'test samples')"
   ]
  },
  {
   "cell_type": "code",
   "execution_count": 8,
   "metadata": {
    "collapsed": false
   },
   "outputs": [],
   "source": [
    "y_train = np.asarray(y_train).astype('int8')\n",
    "y_test = np.asarray(y_test).astype('int8')"
   ]
  },
  {
   "cell_type": "code",
   "execution_count": 9,
   "metadata": {
    "collapsed": false
   },
   "outputs": [],
   "source": [
    "# convert class vectors to binary class matrices\n",
    "Y_train = np_utils.to_categorical(y_train, nb_classes)\n",
    "Y_test = np_utils.to_categorical(y_test, nb_classes)"
   ]
  },
  {
   "cell_type": "code",
   "execution_count": 15,
   "metadata": {
    "collapsed": false
   },
   "outputs": [],
   "source": [
    "model = Sequential()\n",
    "\n",
    "model.add(Convolution2D(nb_filters, nb_conv, nb_conv,\n",
    "                        border_mode='valid',\n",
    "                        input_shape=(1, img_rows, img_cols)))\n",
    "model.add(Activation(LeakyReLU(alpha=0.3)))\n",
    "model.add(Convolution2D(nb_filters, nb_conv, nb_conv))\n",
    "model.add(Activation(LeakyReLU(alpha=0.3)))\n",
    "model.add(MaxPooling2D(pool_size=(nb_pool, nb_pool)))\n",
    "model.add(Dropout(0.25))\n",
    "\n",
    "model.add(Flatten())\n",
    "model.add(Dense(128))\n",
    "model.add(Activation(LeakyReLU(alpha=0.3)))\n",
    "model.add(Dense(64))\n",
    "model.add(Activation(LeakyReLU(alpha=0.3)))\n",
    "model.add(Dropout(0.5))\n",
    "model.add(Dense(nb_classes))\n",
    "model.add(Activation('softmax'))\n",
    "\n",
    "model.compile(loss='categorical_crossentropy',\n",
    "              optimizer='adadelta',\n",
    "              metrics=['accuracy'])\n"
   ]
  },
  {
   "cell_type": "code",
   "execution_count": null,
   "metadata": {
    "collapsed": false
   },
   "outputs": [
    {
     "name": "stdout",
     "output_type": "stream",
     "text": [
      "Train on 29400 samples, validate on 12600 samples\n",
      "Epoch 1/10\n",
      "29400/29400 [==============================] - 57s - loss: 0.3093 - acc: 0.9042 - val_loss: 0.1150 - val_acc: 0.9608\n",
      "Epoch 2/10\n",
      "29400/29400 [==============================] - 58s - loss: 0.1071 - acc: 0.9679 - val_loss: 0.0672 - val_acc: 0.9789\n",
      "Epoch 3/10\n",
      "29400/29400 [==============================] - 57s - loss: 0.0775 - acc: 0.9759 - val_loss: 0.0825 - val_acc: 0.9740\n",
      "Epoch 4/10\n",
      "29400/29400 [==============================] - 58s - loss: 0.0633 - acc: 0.9811 - val_loss: 0.0645 - val_acc: 0.9806\n",
      "Epoch 5/10\n",
      "29400/29400 [==============================] - 58s - loss: 0.0516 - acc: 0.9845 - val_loss: 0.0613 - val_acc: 0.9833\n",
      "Epoch 6/10\n",
      "29400/29400 [==============================] - 58s - loss: 0.0455 - acc: 0.9855 - val_loss: 0.0546 - val_acc: 0.9844\n",
      "Epoch 7/10\n",
      "29400/29400 [==============================] - 58s - loss: 0.0419 - acc: 0.9868 - val_loss: 0.0534 - val_acc: 0.9851\n",
      "Epoch 8/10\n",
      "29400/29400 [==============================] - 62s - loss: 0.0360 - acc: 0.9885 - val_loss: 0.0548 - val_acc: 0.9857\n",
      "Epoch 9/10\n",
      "29400/29400 [==============================] - 58s - loss: 0.0311 - acc: 0.9907 - val_loss: 0.0558 - val_acc: 0.9860\n",
      "Epoch 10/10\n",
      "29312/29400 [============================>.] - ETA: 0s - loss: 0.0304 - acc: 0.9904"
     ]
    }
   ],
   "source": [
    "model.fit(X_train, Y_train, batch_size=batch_size, nb_epoch=nb_epoch,\n",
    "          verbose=1, validation_data=(X_test, Y_test))\n",
    "score = model.evaluate(X_test, Y_test, verbose=0)\n",
    "print('Test score:', score[0])\n",
    "print('Test accuracy:', score[1])"
   ]
  },
  {
   "cell_type": "code",
   "execution_count": null,
   "metadata": {
    "collapsed": false
   },
   "outputs": [],
   "source": [
    "prediction_results = model.predict_classes(X_submission, batch_size=32, verbose=1)"
   ]
  },
  {
   "cell_type": "code",
   "execution_count": null,
   "metadata": {
    "collapsed": false
   },
   "outputs": [],
   "source": [
    "prediction_results = prediction_results.astype('uint8')\n",
    "print prediction_results"
   ]
  },
  {
   "cell_type": "code",
   "execution_count": null,
   "metadata": {
    "collapsed": false
   },
   "outputs": [],
   "source": [
    "np.savetxt(\"prediction_results.csv\", prediction_results, delimiter=',')\n",
    "np.savetxt('mnist-vggnet.csv', np.c_[range(1,len(yPred)+1),yPred], delimiter=',', header = 'ImageId,Label', comments = '', fmt='%d')"
   ]
  },
  {
   "cell_type": "code",
   "execution_count": null,
   "metadata": {
    "collapsed": true
   },
   "outputs": [],
   "source": []
  }
 ],
 "metadata": {
  "kernelspec": {
   "display_name": "Python 2",
   "language": "python",
   "name": "python2"
  },
  "language_info": {
   "codemirror_mode": {
    "name": "ipython",
    "version": 2
   },
   "file_extension": ".py",
   "mimetype": "text/x-python",
   "name": "python",
   "nbconvert_exporter": "python",
   "pygments_lexer": "ipython2",
   "version": "2.7.11"
  }
 },
 "nbformat": 4,
 "nbformat_minor": 0
}
