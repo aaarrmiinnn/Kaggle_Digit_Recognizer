{
 "cells": [
  {
   "cell_type": "markdown",
   "metadata": {},
   "source": [
    "# Importing Libraries"
   ]
  },
  {
   "cell_type": "code",
   "execution_count": null,
   "metadata": {
    "collapsed": false
   },
   "outputs": [],
   "source": [
    "import os\n",
    "import pandas as pd\n",
    "import matplotlib.pyplot as plt\n",
    "import numpy as np\n",
    "np.random.seed(1337)  # for reproducibility\n",
    "import csv\n",
    "import time\n",
    "\n",
    "\n",
    "from keras.datasets import mnist\n",
    "\n",
    "\n",
    "from keras.datasets import mnist\n",
    "from keras.models import Sequential, model_from_json\n",
    "from keras.layers.core import Dense, Dropout, Activation, Flatten\n",
    "from keras.layers.convolutional import Convolution2D, MaxPooling2D, ZeroPadding2D\n",
    "from keras.utils import np_utils\n",
    "from keras.regularizers import l2, activity_l2\n",
    "from keras.layers.advanced_activations import LeakyReLU\n",
    "from keras.utils.visualize_util import plot\n"
   ]
  },
  {
   "cell_type": "code",
   "execution_count": null,
   "metadata": {
    "collapsed": false
   },
   "outputs": [],
   "source": [
    "#os.chdir(\"/Users/Armin/Documents/Data_Science/Kaggle/Digit_Recognizer\")\n",
    "cwd=os.getcwd()\n",
    "print \"Working Dir Is:\\n\",cwd\n",
    "print os.listdir(cwd+\"/Data/\")\n"
   ]
  },
  {
   "cell_type": "code",
   "execution_count": null,
   "metadata": {
    "collapsed": false
   },
   "outputs": [],
   "source": [
    "train_data = csv.reader(open(cwd+\"/Data/train.csv\",\"rb\"),delimiter=',')\n",
    "x = list(train_data)\n",
    "train_XY= np.array(x[1:]).astype('float32')\n",
    "test_data = csv.reader(open(cwd+\"/Data/test.csv\",\"rb\"),delimiter=',')\n",
    "x = list(test_data)\n",
    "test_XY= np.array(x[1:]).astype('float32')"
   ]
  },
  {
   "cell_type": "code",
   "execution_count": null,
   "metadata": {
    "collapsed": true
   },
   "outputs": [],
   "source": [
    "batch_size = 128\n",
    "nb_classes = 10\n",
    "nb_epoch = 1\n",
    "\n",
    "# input image dimensions\n",
    "img_rows, img_cols = 28, 28\n",
    "# number of convolutional filters to use\n",
    "nb_filters = 32\n",
    "nb_filters_2 = 64 \n",
    "nb_filters_3 = 128 \n",
    "# size of pooling area for max pooling\n",
    "nb_pool = 2\n",
    "# convolution kernel size\n",
    "nb_conv = 3"
   ]
  },
  {
   "cell_type": "code",
   "execution_count": null,
   "metadata": {
    "collapsed": false
   },
   "outputs": [],
   "source": [
    "train_percentage = 0.7\n",
    "train_size = int(np.round(train_XY.shape[0]*train_percentage))"
   ]
  },
  {
   "cell_type": "code",
   "execution_count": null,
   "metadata": {
    "collapsed": false
   },
   "outputs": [],
   "source": [
    "X_train = train_XY[0:train_size,1:]\n",
    "print (\"X_train size is:\",X_train.shape)\n",
    "y_train = train_XY[0:train_size,0]\n",
    "print (\"y_train size is:\",y_train.shape)\n",
    "X_test = train_XY[train_size:,1:   ]\n",
    "print (\"X_test size is:\",X_test.shape)\n",
    "y_test = train_XY[train_size:,0]\n",
    "print (\"y_test size is:\",y_test.shape)\n",
    "\n",
    "X_submission = test_XY\n",
    "print (\"X_submission size is:\",X_submission.shape)"
   ]
  },
  {
   "cell_type": "markdown",
   "metadata": {},
   "source": [
    "##### Adding the original MNIST data"
   ]
  },
  {
   "cell_type": "code",
   "execution_count": null,
   "metadata": {
    "collapsed": true
   },
   "outputs": [],
   "source": [
    "(X_train_MNIST, y_train_MNIST), (X_test_MNIST, y_test_MNIST) = mnist.load_data()"
   ]
  },
  {
   "cell_type": "code",
   "execution_count": null,
   "metadata": {
    "collapsed": false
   },
   "outputs": [],
   "source": [
    "# Reshape the 2D MNIST to 1D MNIST\n",
    "X_train_MNIST = np.reshape(X_train_MNIST,(-1,784))\n",
    "X_test_MNIST = np.reshape(X_test_MNIST,(-1,784))"
   ]
  },
  {
   "cell_type": "code",
   "execution_count": null,
   "metadata": {
    "collapsed": false
   },
   "outputs": [],
   "source": [
    "# Append it to Kaggle MNIST\n",
    "X_train = np.concatenate((X_train,X_train_MNIST), axis=0)\n",
    "y_train = np.concatenate((y_train,y_train_MNIST), axis=0)\n",
    "X_test = np.concatenate((X_test,X_test_MNIST), axis=0)\n",
    "y_test = np.concatenate((y_test,y_test_MNIST), axis=0)\n",
    "\n",
    "\n",
    "print \"Final X_train shape is: \",X_train.shape\n",
    "print \"Final X_test shape is: \",X_test.shape\n",
    "print \"Final y_train shape is: \",y_train.shape\n",
    "print \"Final y_test shape is: \",y_test.shape\n"
   ]
  },
  {
   "cell_type": "code",
   "execution_count": null,
   "metadata": {
    "collapsed": false
   },
   "outputs": [],
   "source": [
    "X_train = X_train.reshape(X_train.shape[0], 1, img_rows, img_cols)\n",
    "X_test = X_test.reshape(X_test.shape[0], 1, img_rows, img_cols)\n",
    "X_submission = X_submission.reshape(X_submission.shape[0], 1, img_rows, img_cols)\n",
    "X_train = X_train.astype('float32')\n",
    "X_test = X_test.astype('float32')\n",
    "X_submission = X_submission.astype('float32')\n",
    "X_train /= 255\n",
    "X_test /= 255\n",
    "X_submission /= 255\n",
    "\n",
    "print('X_train shape:', X_train.shape)\n",
    "print(X_train.shape[0], 'train samples')\n",
    "print(X_test.shape[0], 'test samples')"
   ]
  },
  {
   "cell_type": "code",
   "execution_count": null,
   "metadata": {
    "collapsed": false
   },
   "outputs": [],
   "source": [
    "y_train = np.asarray(y_train).astype('int8')\n",
    "y_test = np.asarray(y_test).astype('int8')"
   ]
  },
  {
   "cell_type": "code",
   "execution_count": null,
   "metadata": {
    "collapsed": false
   },
   "outputs": [],
   "source": [
    "# convert class vectors to binary class matrices\n",
    "Y_train = np_utils.to_categorical(y_train, nb_classes)\n",
    "Y_test = np_utils.to_categorical(y_test, nb_classes)"
   ]
  },
  {
   "cell_type": "code",
   "execution_count": null,
   "metadata": {
    "collapsed": false
   },
   "outputs": [],
   "source": [
    "model = Sequential()\n",
    "\n",
    "model.add(Convolution2D(nb_filters, nb_conv, nb_conv,\n",
    "                        border_mode='valid',\n",
    "                        input_shape=(1, img_rows, img_cols)))\n",
    "model.add(LeakyReLU(alpha=0.3))\n",
    "model.add(Convolution2D(nb_filters, nb_conv, nb_conv))\n",
    "model.add(LeakyReLU(alpha=0.3))\n",
    "model.add(Convolution2D(nb_filters_3, nb_conv, nb_conv, activation=\"relu\"))\n",
    "model.add(ZeroPadding2D((1, 1)))\n",
    "model.add(Convolution2D(nb_filters_3, nb_conv, nb_conv, activation=\"relu\"))\n",
    "model.add(MaxPooling2D(strides=(2,2)))\n",
    "\n",
    "\n",
    "#model.add(MaxPooling2D(pool_size=(nb_pool, nb_pool)))\n",
    "model.add(Dropout(0.25))\n",
    "\n",
    "model.add(Flatten())\n",
    "model.add(Dense(128))\n",
    "model.add(LeakyReLU(alpha=0.3))\n",
    "model.add(Dense(64))\n",
    "model.add(LeakyReLU(alpha=0.3))\n",
    "model.add(Dropout(0.5))\n",
    "model.add(Dense(nb_classes))\n",
    "model.add(Activation('softmax'))\n",
    "\n",
    "model.compile(loss='categorical_crossentropy',\n",
    "              optimizer='adadelta',\n",
    "              metrics=['accuracy'])\n"
   ]
  },
  {
   "cell_type": "code",
   "execution_count": null,
   "metadata": {
    "collapsed": false
   },
   "outputs": [],
   "source": [
    "model.fit(X_train, Y_train, batch_size=batch_size, nb_epoch=nb_epoch,\n",
    "          verbose=1, validation_data=(X_test, Y_test))\n",
    "score = model.evaluate(X_test, Y_test, verbose=0)\n",
    "print('Test score:', score[0])\n",
    "print('Test accuracy:', score[1])"
   ]
  },
  {
   "cell_type": "code",
   "execution_count": null,
   "metadata": {
    "collapsed": false
   },
   "outputs": [],
   "source": [
    "print model.summary()\n",
    "\n",
    "json_string = model.to_json()\n",
    "open('my_model_architecture.json', 'w').write(json_string)\n",
    "model.save_weights('my_model_weights.h5')"
   ]
  },
  {
   "cell_type": "code",
   "execution_count": null,
   "metadata": {
    "collapsed": true
   },
   "outputs": [],
   "source": [
    "# Reconstructing model in the future\n",
    "#model = model_from_json(open('my_model_architecture.json').read())\n",
    "#model.load_weights('my_model_weights.h5')\n",
    "#model.compile(optimizer='adadelta', loss='categorical_crossentropy')\n"
   ]
  },
  {
   "cell_type": "code",
   "execution_count": null,
   "metadata": {
    "collapsed": false
   },
   "outputs": [],
   "source": [
    "prediction_results = model.predict_classes(X_submission, batch_size=32, verbose=1)"
   ]
  },
  {
   "cell_type": "code",
   "execution_count": null,
   "metadata": {
    "collapsed": false
   },
   "outputs": [],
   "source": [
    "prediction_results = prediction_results.astype('uint8')\n",
    "print prediction_results"
   ]
  },
  {
   "cell_type": "code",
   "execution_count": null,
   "metadata": {
    "collapsed": false
   },
   "outputs": [],
   "source": [
    "save_name = 'prediction_results___'+time.strftime(\"H_%H_%M_%S___D_%d_%m_%Y\")+'.csv'\n"
   ]
  },
  {
   "cell_type": "code",
   "execution_count": null,
   "metadata": {
    "collapsed": false
   },
   "outputs": [],
   "source": [
    "np.savetxt(save_name, np.c_[range(1,len(prediction_results)+1),prediction_results], delimiter=',', header = 'ImageId,Label', comments = '', fmt='%d')"
   ]
  },
  {
   "cell_type": "code",
   "execution_count": null,
   "metadata": {
    "collapsed": true
   },
   "outputs": [],
   "source": []
  }
 ],
 "metadata": {
  "kernelspec": {
   "display_name": "Python 2",
   "language": "python",
   "name": "python2"
  },
  "language_info": {
   "codemirror_mode": {
    "name": "ipython",
    "version": 2
   },
   "file_extension": ".py",
   "mimetype": "text/x-python",
   "name": "python",
   "nbconvert_exporter": "python",
   "pygments_lexer": "ipython2",
   "version": "2.7.11"
  }
 },
 "nbformat": 4,
 "nbformat_minor": 0
}
